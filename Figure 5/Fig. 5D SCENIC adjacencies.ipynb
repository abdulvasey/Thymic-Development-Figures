{
 "cells": [
  {
   "cell_type": "code",
   "execution_count": 4,
   "id": "2f3b9b2e",
   "metadata": {},
   "outputs": [],
   "source": [
    "import pandas as pd\n",
    "###file is from SCENIC run outlined in previous step\n",
    "df2 = pd.read_csv('/path/vert_hi_reg.csv')\n",
    "import ast\n",
    "import numpy\n",
    "import json"
   ]
  },
  {
   "cell_type": "code",
   "execution_count": 6,
   "id": "43e2094a",
   "metadata": {},
   "outputs": [],
   "source": [
    "df = df2.drop(df2.index[range(2)])"
   ]
  },
  {
   "cell_type": "code",
   "execution_count": 7,
   "id": "375b7610",
   "metadata": {},
   "outputs": [
    {
     "data": {
      "text/plain": [
       "Unnamed: 0                        NaN\n",
       "Unnamed: 1                        NaN\n",
       "Enrichment                        AUC\n",
       "Enrichment.1                      NES\n",
       "Enrichment.2    MotifSimilarityQvalue\n",
       "Enrichment.3      OrthologousIdentity\n",
       "Enrichment.4               Annotation\n",
       "Enrichment.5                  Context\n",
       "Enrichment.6              TargetGenes\n",
       "Enrichment.7                RankAtMax\n",
       "Name: 0, dtype: object"
      ]
     },
     "execution_count": 7,
     "metadata": {},
     "output_type": "execute_result"
    }
   ],
   "source": [
    "df2.loc[0]"
   ]
  },
  {
   "cell_type": "code",
   "execution_count": 9,
   "id": "bc57d044",
   "metadata": {},
   "outputs": [],
   "source": [
    "df1 = df[[\"Unnamed: 0\", \"Enrichment.6\"]]"
   ]
  },
  {
   "cell_type": "code",
   "execution_count": 11,
   "id": "d7d92afc",
   "metadata": {},
   "outputs": [],
   "source": [
    "df1.columns = [\"TF\",\"target\"]"
   ]
  },
  {
   "cell_type": "code",
   "execution_count": 12,
   "id": "7d620749",
   "metadata": {},
   "outputs": [
    {
     "data": {
      "text/html": [
       "<div>\n",
       "<style scoped>\n",
       "    .dataframe tbody tr th:only-of-type {\n",
       "        vertical-align: middle;\n",
       "    }\n",
       "\n",
       "    .dataframe tbody tr th {\n",
       "        vertical-align: top;\n",
       "    }\n",
       "\n",
       "    .dataframe thead th {\n",
       "        text-align: right;\n",
       "    }\n",
       "</style>\n",
       "<table border=\"1\" class=\"dataframe\">\n",
       "  <thead>\n",
       "    <tr style=\"text-align: right;\">\n",
       "      <th></th>\n",
       "      <th>TF</th>\n",
       "      <th>target</th>\n",
       "    </tr>\n",
       "  </thead>\n",
       "  <tbody>\n",
       "    <tr>\n",
       "      <th>2</th>\n",
       "      <td>ARID3A</td>\n",
       "      <td>[('EP300', 1.0322111695318772), ('CYP26B1', 0....</td>\n",
       "    </tr>\n",
       "    <tr>\n",
       "      <th>3</th>\n",
       "      <td>ARID3A</td>\n",
       "      <td>[('PLAG1', 2.41084067075418), ('ZFHX3', 0.4753...</td>\n",
       "    </tr>\n",
       "    <tr>\n",
       "      <th>4</th>\n",
       "      <td>ARID3A</td>\n",
       "      <td>[('EP300', 1.0322111695318772), ('LDB1', 0.823...</td>\n",
       "    </tr>\n",
       "    <tr>\n",
       "      <th>5</th>\n",
       "      <td>ARID3A</td>\n",
       "      <td>[('LDB1', 0.8238317345106125), ('EP300', 1.032...</td>\n",
       "    </tr>\n",
       "    <tr>\n",
       "      <th>6</th>\n",
       "      <td>ATF3</td>\n",
       "      <td>[('NFKB2', 4.068653490095088), ('NFKBIA', 40.8...</td>\n",
       "    </tr>\n",
       "    <tr>\n",
       "      <th>...</th>\n",
       "      <td>...</td>\n",
       "      <td>...</td>\n",
       "    </tr>\n",
       "    <tr>\n",
       "      <th>11606</th>\n",
       "      <td>TWIST1</td>\n",
       "      <td>[('CTNND2', 0.2392675242626907), ('NR2F1-AS1',...</td>\n",
       "    </tr>\n",
       "    <tr>\n",
       "      <th>11607</th>\n",
       "      <td>TWIST1</td>\n",
       "      <td>[('NEXN', 0.2951261003341941), ('NTRK3', 0.080...</td>\n",
       "    </tr>\n",
       "    <tr>\n",
       "      <th>11608</th>\n",
       "      <td>TWIST1</td>\n",
       "      <td>[('TGFBR3', 2.069754233405475), ('ZEB2', 8.578...</td>\n",
       "    </tr>\n",
       "    <tr>\n",
       "      <th>11609</th>\n",
       "      <td>WT1</td>\n",
       "      <td>[('TNFRSF9', 2.432063379366155), ('CLVS1', 1.6...</td>\n",
       "    </tr>\n",
       "    <tr>\n",
       "      <th>11610</th>\n",
       "      <td>WT1</td>\n",
       "      <td>[('CD53', 8.009765956735022), ('RBPMS2', 3.351...</td>\n",
       "    </tr>\n",
       "  </tbody>\n",
       "</table>\n",
       "<p>11609 rows × 2 columns</p>\n",
       "</div>"
      ],
      "text/plain": [
       "           TF                                             target\n",
       "2      ARID3A  [('EP300', 1.0322111695318772), ('CYP26B1', 0....\n",
       "3      ARID3A  [('PLAG1', 2.41084067075418), ('ZFHX3', 0.4753...\n",
       "4      ARID3A  [('EP300', 1.0322111695318772), ('LDB1', 0.823...\n",
       "5      ARID3A  [('LDB1', 0.8238317345106125), ('EP300', 1.032...\n",
       "6        ATF3  [('NFKB2', 4.068653490095088), ('NFKBIA', 40.8...\n",
       "...       ...                                                ...\n",
       "11606  TWIST1  [('CTNND2', 0.2392675242626907), ('NR2F1-AS1',...\n",
       "11607  TWIST1  [('NEXN', 0.2951261003341941), ('NTRK3', 0.080...\n",
       "11608  TWIST1  [('TGFBR3', 2.069754233405475), ('ZEB2', 8.578...\n",
       "11609     WT1  [('TNFRSF9', 2.432063379366155), ('CLVS1', 1.6...\n",
       "11610     WT1  [('CD53', 8.009765956735022), ('RBPMS2', 3.351...\n",
       "\n",
       "[11609 rows x 2 columns]"
      ]
     },
     "execution_count": 12,
     "metadata": {},
     "output_type": "execute_result"
    }
   ],
   "source": [
    "df1"
   ]
  },
  {
   "cell_type": "code",
   "execution_count": 20,
   "id": "4f87217a",
   "metadata": {},
   "outputs": [
    {
     "name": "stderr",
     "output_type": "stream",
     "text": [
      "/var/folders/07/3by0l4s95b79cvs9v9fctc280000gn/T/ipykernel_79865/3709770268.py:1: SettingWithCopyWarning: \n",
      "A value is trying to be set on a copy of a slice from a DataFrame.\n",
      "Try using .loc[row_indexer,col_indexer] = value instead\n",
      "\n",
      "See the caveats in the documentation: https://pandas.pydata.org/pandas-docs/stable/user_guide/indexing.html#returning-a-view-versus-a-copy\n",
      "  df1['target']=df1['target'].apply(lambda x: [i[0] for i in ast.literal_eval(x)])\n"
     ]
    }
   ],
   "source": [
    "df1['target']=df1['target'].apply(lambda x: [i[0] for i in ast.literal_eval(x)])"
   ]
  },
  {
   "cell_type": "code",
   "execution_count": 24,
   "id": "156bed34",
   "metadata": {},
   "outputs": [],
   "source": [
    "df2=df1.groupby('TF').agg(sum)"
   ]
  },
  {
   "cell_type": "code",
   "execution_count": 25,
   "id": "34a44c5f",
   "metadata": {},
   "outputs": [
    {
     "data": {
      "text/html": [
       "<div>\n",
       "<style scoped>\n",
       "    .dataframe tbody tr th:only-of-type {\n",
       "        vertical-align: middle;\n",
       "    }\n",
       "\n",
       "    .dataframe tbody tr th {\n",
       "        vertical-align: top;\n",
       "    }\n",
       "\n",
       "    .dataframe thead th {\n",
       "        text-align: right;\n",
       "    }\n",
       "</style>\n",
       "<table border=\"1\" class=\"dataframe\">\n",
       "  <thead>\n",
       "    <tr style=\"text-align: right;\">\n",
       "      <th></th>\n",
       "      <th>target</th>\n",
       "    </tr>\n",
       "    <tr>\n",
       "      <th>TF</th>\n",
       "      <th></th>\n",
       "    </tr>\n",
       "  </thead>\n",
       "  <tbody>\n",
       "    <tr>\n",
       "      <th>AIRE</th>\n",
       "      <td>[GFRA2, FEZF2, DLX5, KLC2, PTK2B, CCK, GFRA2, ...</td>\n",
       "    </tr>\n",
       "    <tr>\n",
       "      <th>AR</th>\n",
       "      <td>[TNFRSF19, NR4A2, RB1CC1, MAPK10, DAB2, PDLIM5...</td>\n",
       "    </tr>\n",
       "    <tr>\n",
       "      <th>ARID3A</th>\n",
       "      <td>[EP300, CYP26B1, WEE1, CDC25B, HDGF, ZFHX3, LD...</td>\n",
       "    </tr>\n",
       "    <tr>\n",
       "      <th>ARNT2</th>\n",
       "      <td>[MARCH9, PLXDC2, NRCAM, IRX3, TP53I11, FGF1, H...</td>\n",
       "    </tr>\n",
       "    <tr>\n",
       "      <th>ASCL2</th>\n",
       "      <td>[CNTFR, BGN, PAX1, KIAA1549, FOXN3, CYP26B1, O...</td>\n",
       "    </tr>\n",
       "    <tr>\n",
       "      <th>...</th>\n",
       "      <td>...</td>\n",
       "    </tr>\n",
       "    <tr>\n",
       "      <th>ZNF652</th>\n",
       "      <td>[NFIB, HDGF, GPATCH2, ADGRD1, OGFRL1, ATP13A3,...</td>\n",
       "    </tr>\n",
       "    <tr>\n",
       "      <th>ZNF70</th>\n",
       "      <td>[WASF2, IRS1, ACIN1, BAZ2A, HYAL2, FJX1, IGFBP...</td>\n",
       "    </tr>\n",
       "    <tr>\n",
       "      <th>ZNF71</th>\n",
       "      <td>[APPL2, CCAR2, YKT6, CSGALNACT2, CORO1A, CRB3,...</td>\n",
       "    </tr>\n",
       "    <tr>\n",
       "      <th>ZNF837</th>\n",
       "      <td>[CKS1B, MCRS1, SAFB2, N6AMT1, SHISA2, KDM5C, O...</td>\n",
       "    </tr>\n",
       "    <tr>\n",
       "      <th>ZNF91</th>\n",
       "      <td>[UBTF, PHF21A, TAB2, PAFAH1B1, HIVEP2, STT3B, ...</td>\n",
       "    </tr>\n",
       "  </tbody>\n",
       "</table>\n",
       "<p>360 rows × 1 columns</p>\n",
       "</div>"
      ],
      "text/plain": [
       "                                                   target\n",
       "TF                                                       \n",
       "AIRE    [GFRA2, FEZF2, DLX5, KLC2, PTK2B, CCK, GFRA2, ...\n",
       "AR      [TNFRSF19, NR4A2, RB1CC1, MAPK10, DAB2, PDLIM5...\n",
       "ARID3A  [EP300, CYP26B1, WEE1, CDC25B, HDGF, ZFHX3, LD...\n",
       "ARNT2   [MARCH9, PLXDC2, NRCAM, IRX3, TP53I11, FGF1, H...\n",
       "ASCL2   [CNTFR, BGN, PAX1, KIAA1549, FOXN3, CYP26B1, O...\n",
       "...                                                   ...\n",
       "ZNF652  [NFIB, HDGF, GPATCH2, ADGRD1, OGFRL1, ATP13A3,...\n",
       "ZNF70   [WASF2, IRS1, ACIN1, BAZ2A, HYAL2, FJX1, IGFBP...\n",
       "ZNF71   [APPL2, CCAR2, YKT6, CSGALNACT2, CORO1A, CRB3,...\n",
       "ZNF837  [CKS1B, MCRS1, SAFB2, N6AMT1, SHISA2, KDM5C, O...\n",
       "ZNF91   [UBTF, PHF21A, TAB2, PAFAH1B1, HIVEP2, STT3B, ...\n",
       "\n",
       "[360 rows x 1 columns]"
      ]
     },
     "execution_count": 25,
     "metadata": {},
     "output_type": "execute_result"
    }
   ],
   "source": [
    "df2"
   ]
  },
  {
   "cell_type": "code",
   "execution_count": 28,
   "id": "7ca41d35",
   "metadata": {},
   "outputs": [],
   "source": [
    "df2['target']=df2['target'].apply(lambda x: set(x))"
   ]
  },
  {
   "cell_type": "code",
   "execution_count": 30,
   "id": "5936e0d9",
   "metadata": {},
   "outputs": [],
   "source": [
    "df2['target']=df2['target'].apply(lambda x: list(x))"
   ]
  },
  {
   "cell_type": "code",
   "execution_count": 32,
   "id": "e016b585",
   "metadata": {},
   "outputs": [
    {
     "data": {
      "text/html": [
       "<div>\n",
       "<style scoped>\n",
       "    .dataframe tbody tr th:only-of-type {\n",
       "        vertical-align: middle;\n",
       "    }\n",
       "\n",
       "    .dataframe tbody tr th {\n",
       "        vertical-align: top;\n",
       "    }\n",
       "\n",
       "    .dataframe thead th {\n",
       "        text-align: right;\n",
       "    }\n",
       "</style>\n",
       "<table border=\"1\" class=\"dataframe\">\n",
       "  <thead>\n",
       "    <tr style=\"text-align: right;\">\n",
       "      <th></th>\n",
       "      <th>target</th>\n",
       "    </tr>\n",
       "    <tr>\n",
       "      <th>TF</th>\n",
       "      <th></th>\n",
       "    </tr>\n",
       "  </thead>\n",
       "  <tbody>\n",
       "    <tr>\n",
       "      <th>AIRE</th>\n",
       "      <td>[KLC2, PTK2B, GFRA2, DLX5, FEZF2, CCK]</td>\n",
       "    </tr>\n",
       "    <tr>\n",
       "      <th>AR</th>\n",
       "      <td>[DAB2, CSNK1G3, LINC01120, RB1CC1, PDLIM5, CRE...</td>\n",
       "    </tr>\n",
       "    <tr>\n",
       "      <th>ARID3A</th>\n",
       "      <td>[ACOT11, JMJD6, TEAD3, FBLIM1, LOXL1-AS1, PABP...</td>\n",
       "    </tr>\n",
       "    <tr>\n",
       "      <th>ARNT2</th>\n",
       "      <td>[ARNT2, PLXDC2, FGF1, CXADR, IRX3, TSPO, TP53I...</td>\n",
       "    </tr>\n",
       "    <tr>\n",
       "      <th>ASCL2</th>\n",
       "      <td>[SYNE1, PLXDC1, KIAA1549, CNTFR, CDC42EP5, CYP...</td>\n",
       "    </tr>\n",
       "    <tr>\n",
       "      <th>...</th>\n",
       "      <td>...</td>\n",
       "    </tr>\n",
       "    <tr>\n",
       "      <th>ZNF652</th>\n",
       "      <td>[YTHDF1, TMEM131, OGFRL1, GPATCH2, TMEM100, SI...</td>\n",
       "    </tr>\n",
       "    <tr>\n",
       "      <th>ZNF70</th>\n",
       "      <td>[TTC37, GLIS2, EGFL7, TCEANC, IRS1, MET, RREB1...</td>\n",
       "    </tr>\n",
       "    <tr>\n",
       "      <th>ZNF71</th>\n",
       "      <td>[FURIN, BMP8A, YKT6, CORO1A, BRINP1, KIF14, RC...</td>\n",
       "    </tr>\n",
       "    <tr>\n",
       "      <th>ZNF837</th>\n",
       "      <td>[CKS1B, PFKFB4, NIPSNAP3A, POLA1, TAOK3, PRPF3...</td>\n",
       "    </tr>\n",
       "    <tr>\n",
       "      <th>ZNF91</th>\n",
       "      <td>[RCOR3, GSK3A, DYNLL2, COL6A3, GPT2, SNX13, EP...</td>\n",
       "    </tr>\n",
       "  </tbody>\n",
       "</table>\n",
       "<p>360 rows × 1 columns</p>\n",
       "</div>"
      ],
      "text/plain": [
       "                                                   target\n",
       "TF                                                       \n",
       "AIRE               [KLC2, PTK2B, GFRA2, DLX5, FEZF2, CCK]\n",
       "AR      [DAB2, CSNK1G3, LINC01120, RB1CC1, PDLIM5, CRE...\n",
       "ARID3A  [ACOT11, JMJD6, TEAD3, FBLIM1, LOXL1-AS1, PABP...\n",
       "ARNT2   [ARNT2, PLXDC2, FGF1, CXADR, IRX3, TSPO, TP53I...\n",
       "ASCL2   [SYNE1, PLXDC1, KIAA1549, CNTFR, CDC42EP5, CYP...\n",
       "...                                                   ...\n",
       "ZNF652  [YTHDF1, TMEM131, OGFRL1, GPATCH2, TMEM100, SI...\n",
       "ZNF70   [TTC37, GLIS2, EGFL7, TCEANC, IRS1, MET, RREB1...\n",
       "ZNF71   [FURIN, BMP8A, YKT6, CORO1A, BRINP1, KIF14, RC...\n",
       "ZNF837  [CKS1B, PFKFB4, NIPSNAP3A, POLA1, TAOK3, PRPF3...\n",
       "ZNF91   [RCOR3, GSK3A, DYNLL2, COL6A3, GPT2, SNX13, EP...\n",
       "\n",
       "[360 rows x 1 columns]"
      ]
     },
     "execution_count": 32,
     "metadata": {},
     "output_type": "execute_result"
    }
   ],
   "source": [
    "df2"
   ]
  },
  {
   "cell_type": "code",
   "execution_count": 48,
   "id": "fd8c81c8",
   "metadata": {},
   "outputs": [],
   "source": [
    "###combined list of 400 markers for ctec hi and mtec hi populations\n",
    "list1=['CCL19', 'KRT15', 'IFITM3', 'KRT13', 'FN1', 'TMSB4X', 'CXCL14', 'BCAM', 'S100A11', 'LY6E', 'RPL28', 'RPS3', 'RPL18A', 'RPL12', 'RPL13', 'RPS23', 'RPS19', 'RPS3A', 'RPS15', 'RPL10', 'KRT17', 'VIM', 'ARID5B', 'CD9', 'RPL30', 'RPL32', 'RPS14', 'EEF1A1', 'RPL21', 'RPL14', 'RPS5', 'RPL18', 'RPS12', 'KRT19', 'RPS6', 'IFI6', 'TNC', 'RPL10A', 'S100A6', 'RPL15', 'RPS27', 'RPS27A', 'RPL7A', 'RPS8', 'RACK1', 'TMEM173', 'MARCKSL1', 'RPS9', 'RPL23A', 'TPT1', 'RPS4X', 'RPL37', 'PSME1', 'SFN', 'HNRNPA1', 'RPLP2', 'RPL8', 'RPS16', 'TIMP1', 'CCDC3', 'RPS18', 'CLU', 'RPS25', 'RPL19', 'RPL41', 'ECE1', 'RPL37A', 'RPLP0', 'RPL26', 'DCN', 'CARHSP1', 'RPL34', 'RPL36', 'PHLDA1', 'EPCAM', 'NPM1', 'ANGPT2', 'RAB13', 'ZFAS1', 'RPL9', 'MYL9', 'EEF1B2', 'ACKR1', 'RPSA', 'RPL39', 'SGK1', 'RPL35A', 'RPL5', 'CCL21', 'PTMS', 'RPLP1', 'RPL29', 'IFITM1', 'KRT14', 'SSTR2', 'RPL7', 'ALPK2', 'DCC', 'IGFBP7', 'TPM2', 'UGCG', 'FXYD3', 'RPS2', 'RPL13A', 'CYBA', 'RPS13', 'RPS28', 'BST2', 'SCARA3', 'PARM1', 'DMKN', 'LTB', 'LAP3', 'LAMB3', 'CTSH', 'SMIM1', 'RPL24', 'NOP53', 'SOD2', 'CLDN4', 'MCAM', 'FAU', 'COL18A1', 'S100A10', 'IRF7', 'ID2', 'DEK', 'LSP1', 'RPL35', 'RPS7', 'WFDC2', 'MTSS1', 'CRIP2', 'SLC4A4', 'ANKRD29', 'NAV2', 'PPP2R2C', 'ISG15', 'LTBP1', 'MSI2', 'HES4', 'CNN2', 'RPL4', 'TYW3', 'RPL22', 'XAF1', 'GABRA5', 'GYPC', 'SCD5', 'MFGE8', 'CACNA2D1', 'SELENOM', 'AC012668.3', 'LGALS3', 'GSN', 'IFI44L', 'S100A2', 'PPDPF', 'BTF3', 'EEF1D', 'RPS21', 'RPS11', 'CH25H', 'ANXA3', 'CAVIN1', 'SPIB', 'FSCN1', 'STXBP6', 'C3', 'TPM4', 'CADM1', 'IL3RA', 'NPR3', 'FAM3B', 'CHI3L1', 'SLPI', 'SYNPO2', 'ADAM23', 'RABAC1', 'RPL3', 'SNHG8', 'RGS17', 'TMEM176B', 'RPL27A', 'HEY1', 'TAF1D', 'RPS29', 'GATM', 'PCBD1', 'HIVEP3', 'ADAM12', 'CSRP2', 'LMO4', 'CTSC', 'SLCO3A1', 'ST14', 'NTRK2', 'SOX4', 'RNF19A', 'MX1', 'ING1', 'FGD6', 'CPAMD8', 'BCL2', 'KLF4', 'RPL38', 'IL23A', 'IFIT1', 'BTG1', 'ATF4', 'PRRX1', 'CLIP3', 'MCC', 'TP73', 'STOM', 'INSM1', 'H1F0', 'STMN3', 'SLC34A2', 'HERC6', 'C2CD4B', 'RPL6', 'CAPG', 'SEMA3E', 'CLDN7', 'TNFRSF12A', 'PRPS2', 'RAB38', 'MX2', 'TMEM233', 'MAPK13', 'LYPD1', 'RPL23', 'FCGRT', 'VSIR', 'CXCL9', 'STOX1', 'ANXA4', 'CXCL10', 'NECTIN2', 'CXCL11', 'ITM2C', 'EIF3E', 'SNCAIP', 'SMCO4', 'SINHCAF', 'FAM210B', 'TM4SF1', 'HTRA1', 'ANP32B', 'CEBPB', 'RBP1', 'EMP3', 'CTSZ', 'TUBB2B', 'ADIRF', 'C1S', 'CSTA', 'CCND1', 'NAP1L1', 'ANXA5', 'HIST1H4C', 'SH3BP5', 'GFRA1', 'RPL11', 'CREB3L1', 'FGFR2', 'IRX3', 'SOCS3', 'IMPDH2', 'NASP', 'SPINT1', 'CEP135', 'ST3GAL1', 'GSTP1', 'ITGB8', 'TMEM54', 'DNAH11', 'TNFRSF4', 'CNTN4', 'PPA1', 'PRRG3', 'RPS15A', 'SEMA5A', 'GSTM3', 'HMGN2', 'EEF2', 'OAS3', 'PRMT1', 'FERMT1', 'YBX3', 'CDC14A', 'EGOT', 'COL4A2', 'RARRES2', 'EGFLAM', 'COL4A4', 'FOS', 'ETV7', 'RSL1D1', 'PTP4A3', 'NKAIN4', 'KRT18', 'PPIA', 'AC004233.2', 'PAPSS2', 'RPL31', 'SNHG7', 'FSTL1', 'KRT32', 'ASCL1', 'FMNL2', 'NCKAP5', 'C12orf57', 'NRARP', 'IGFBP5', 'UBA52', 'SLC25A6', 'EIF2AK2', 'CACNB4', 'TMEM176A', 'IQGAP1', 'SLC9A3R1', 'CDH7', 'GABRB3', 'CAMK1D', 'TNFSF10', 'LAYN', 'TNNT3', 'PPL', 'CCND2', 'AKR1A1', 'EMP1', 'NNAT', 'CD99', 'PERP', 'H1FX', 'B2M', 'STARD5', 'MYO5A', 'TNFAIP8', 'PDGFRA', 'APOE', 'C1R', 'ZFP36L2', 'RPL22L1', 'PFDN5', 'SLCO2B1', 'ID1', 'C6orf132', 'AGRN', 'CDH2', 'CD151', 'KRT31', 'SULT1E1', 'RND3', 'HMGA1', 'CTSS', 'RPS10', 'EPHB2', 'HNRNPH1', 'HAPLN3', 'COLCA1', 'OSMR', 'TIFA', 'SERTAD1', 'HNRNPA0', 'LINC00511', 'NENF', 'IRF9', 'CPXM1', 'RPL36A', 'RAB11FIP1', 'SERTAD4-AS1', 'DOC2B', 'DUSP1', 'SLITRK4', 'HCAR3', 'C2CD4A', 'GLUL', 'A4GALT', 'HOPX', 'HERC5', 'SEMA6A', 'TOMM20', 'CLDN3', 'PNMA3', 'CIRBP', 'EPB41L4A-AS1', 'TKT', 'ACTG1', 'PHGDH', 'IFI16', 'BEX2', 'SMAD1', 'PLIN5', 'SRSF7', 'TMEM238', 'TPM1', 'PRLR', 'PRSS16', 'CCL25', 'GNG11', 'PITHD1', 'CTSV', 'TBATA', 'PLTP', 'PGAM2', 'PEMT', 'PSMB11', 'LY75', 'SLC46A2', 'CST3', 'OXCT1', 'FABP5', 'COX7A1', 'TP53AIP1', 'HMG20B', 'ETFB', 'SOD3', 'GAA', 'RAB42', 'CD83', 'AC084816.1', 'SNX29', 'SYNE1', 'CXCL12', 'FAM107A', 'MUC3A', 'FAM50A', 'PLOD2', 'ATP10B', 'ETNK1', 'PSIP1', 'DYSF', 'TP53I3', 'C20orf204', 'BCAS4', 'GLRX', 'FRMD1', 'CSTB', 'CCDC80', 'PSMB5', 'MDK', 'AL606807.1', 'HLA-DMA', 'PLGRKT', 'PASK', 'CNN3', 'PITRM1', 'PSMB6', 'GHRH', 'PSMA7', 'PNMA8A', 'NPTX1', 'CYP26B1', 'PRDX5', 'KCNIP3', 'MFSD12', 'NEURL2', 'OXCT2', 'KIAA1549', 'PDLIM1', 'CLEC2L', 'STARD9', 'S100A14', 'RTBDN', 'HDAC4', 'AATBC', 'SPX', 'ENPEP', 'SLC46A1', 'TNFRSF17', 'PLPP2', 'IGDCC3', 'FBLN7', 'LRRC10B', 'PODN', 'CD1D', 'CFC1', 'PPP1R2', 'CDH23', 'SPOCK2', 'METTL26', 'KIF12', 'NFKB1', 'PLEK2', 'HLA-DPB1', 'HLA-DQB1', 'IQSEC3', 'ATP6V0E2', 'GPLD1', 'HLA-DQA1', 'SLC6A8', 'AC087392.1', 'PSMB1', 'PPFIA3', 'RHBDL1', 'HPGD', 'HAO2', 'HLA-DPA1', 'SLC36A1', 'KCNJ5', 'SLC17A8', 'SPOCK1', 'GGA2', 'PCSK6', 'GGA1', 'HLA-DRA', 'CLIC3', 'TBCD', 'CLN8', 'NSMAF', 'BNIP3', 'MYO1C', 'C14orf93', 'CFHR1', 'PNCK', 'PAX1', 'NPIPB2', 'GCHFR', 'MGMT', 'DPP6', 'HAGH', 'C12orf56', 'TLN2', 'GAMT', 'WDR1', 'IGSF3', 'LYPLA2', 'SPATS2L', 'LGALS1', 'AC084819.1', 'CYB5R1', 'RAB3IL1', 'OST4', 'VMO1', 'PLCD1', 'HIST1H2AC', 'CNTFR', 'GPR35', 'APOBEC2', 'CHMP1B', 'EHBP1L1', 'ZBED2', 'SCX', 'VWCE', 'ACADVL', 'MGST3', 'SLC6A1', 'KCNC3', 'PIK3IP1', 'MPP5', 'CAMKK1', 'FAM163A', 'BLVRB', 'NAGK', 'MAP7D2', 'IQGAP2', 'SLCO5A1', 'CD274', 'IDI1', 'TXLNB', 'SORBS2', 'PDLIM7', 'KRT8', 'ACO1', 'RTN4', 'MCF2L', 'PLEKHJ1', 'PSMA4', 'PSMA3', 'ATP5MD', 'CCR10', 'POMP', 'COL11A2', 'HLA-DMB', 'LAMP2', 'UQCR10', 'PTPRT', 'SQSTM1', 'LINC00891', 'LAMB1', 'NDUFA4', 'ZFYVE21', 'RTN4RL2', 'LEPR', 'DNASE2', 'EYA2', 'CBX4', 'CDC42EP5', 'LNPK', 'PSMB2', 'DIAPH2', 'NEU3', 'TRAPPC12', 'SLIT3', 'PRSS8', 'CLTB', 'GALNT11', 'DNASE1L2', 'C4orf50', 'ATP5PF', 'HIST1H4H', 'CCDC150', 'CLEC1A', 'N4BP2L1', 'EDNRA', 'CALML3', 'PTRH1', 'ASCL2', 'PSMD8', 'RMDN2-AS1', 'AL390729.1', 'NEURL3', 'USP54', 'TMEM130', 'C11orf16', 'SSPN', 'RIPOR2', 'PXK', 'AKR1B10', 'PNMA8B', 'NINJ1', 'PSMC1', 'LIMS1', 'ATP6V0D1', 'CLTA', 'RASD1', 'GFOD1', 'CDIP1', 'IRS4', 'CXXC5', 'PLXDC1', 'SLC39A2', 'BCAP29', 'CLTC', 'MXD4', 'CD74', 'ARHGAP28', 'ANGPTL2', 'PART1', 'AC007325.4', 'MAPK4', 'DLL4', 'NUPR1', 'SOD1', 'CCDC144A', 'SLC44A3', 'DYNC1I1', 'COL6A1', 'ZNRF1', 'FOXN1', 'NIPA1', 'PRR26', 'ATP5IF1', 'PSMB10', 'GRINA', 'HMGCL', 'FIBIN', 'PSMD1', 'WARS', 'ICMT', 'HLA-DRB1', 'CDH3', 'PLCXD2', 'DRAP1', 'PDZRN3', 'IGFALS', 'ZDHHC14', 'LAMTOR1', 'FAIM2', 'NDUFB2', 'PKP4', 'COX14', 'DGLUCY', 'ARHGAP42', 'TSC22D1', 'COL6A2', 'SREBF1', 'FRAS1', 'GABRA1', 'PSMD11', 'KLHDC4', 'AC087258.1', 'PPFIA1', 'TBC1D2B', 'LTBP3', 'PSAP', 'AKIP1', 'NSFL1C', 'PLA2G4F', 'TMBIM6', 'RBPMS2', 'UNKL', 'VCP', 'HSD17B14', 'AMN', 'ZFAND2B', 'NEAT1', 'ATP5F1C', 'GPC4', 'PSMB9', 'UBA7', 'APRT', 'ATOH8', 'C9orf78', 'TXN', 'SPART', 'COX5A', 'PDE1C', 'CELF2', 'FAHD1', 'RCAN1', 'PMP22', 'HIST1H2BC', 'HSPA4L', 'PDHA1', 'SYTL1', 'LAGE3', 'SULT1A1', 'B3GALT5', 'FTH1', 'UROS', 'SLC25A4', 'DOCK10', 'CBFA2T3', 'LENG9', 'AL591686.1', 'VPS13A', 'UTRN', 'AC007325.2', 'KLC3', 'ATP5MG', 'CLIC6', 'GALE', 'TBC1D14', 'TMEM131L', 'SERPINB5', 'MAPRE3', 'KBTBD11', 'PTN', 'GTF2IRD2', 'MUC20', 'DGCR6', 'PPP1R7', 'B3GALT5-AS1', 'ATOX1', 'CALR', 'RNF217', 'SPTAN1', 'PDCD1LG2', 'HS3ST6', 'CAPSL', 'AC068305.2', 'MYH8', 'CCDC171', 'PPARGC1A', 'HLA-DRB5', 'FAM69A', 'M6PR', 'ACADL', 'NUDT16', 'PSMD2', 'SPPL2A', 'CPLANE1', 'ME1', 'LAMP1', 'EFNA1', 'CLIC4', 'C5orf51', 'TNFRSF14-AS1', 'TIMM13', 'CYP1B1', 'PLEKHH3', 'ZHX1', 'AC098850.3', 'ATP11B', 'NFKBID', 'ADRB2', 'CIITA', 'NDRG2', 'ICA1L', 'SSBP2', 'GAS6', 'NDUFA6', 'IFI27L2', 'ITM2B', 'TMEM192', 'DNAJC1', 'SPCS2', 'YKT6', 'EPHX1', 'TACC2', 'PLD3', 'EPHA1', 'VIPR2', 'ARL2', 'ELMSAN1', 'DGCR6L']"
   ]
  },
  {
   "cell_type": "code",
   "execution_count": 49,
   "id": "4737fefe",
   "metadata": {},
   "outputs": [
    {
     "data": {
      "text/plain": [
       "800"
      ]
     },
     "execution_count": 49,
     "metadata": {},
     "output_type": "execute_result"
    }
   ],
   "source": [
    "len(list1)"
   ]
  },
  {
   "cell_type": "code",
   "execution_count": 50,
   "id": "e2eb093d",
   "metadata": {},
   "outputs": [],
   "source": [
    "###for all genes\n",
    "col_list = df2.index.tolist()"
   ]
  },
  {
   "cell_type": "code",
   "execution_count": 51,
   "id": "1e22d37f",
   "metadata": {},
   "outputs": [],
   "source": [
    "#drawing edges between regulons and ctec/mtec hi markers\n",
    "lst = col_list\n",
    "targs = []\n",
    "tf = []\n",
    "for x in lst:\n",
    "    my_list = df2.loc[x][0]\n",
    "    t = []\n",
    "    length = 0\n",
    "    for z in my_list:\n",
    "        if z in list1 and z != x:\n",
    "            t = t + [z]\n",
    "            length = length + 1\n",
    "    targs = targs + t\n",
    "    nam = [x]*length\n",
    "    tf = tf + nam\n",
    "    #targs = targs + my_list\n",
    "    #length = len(my_list)\n",
    "    #nam = [x]*length\n",
    "    #tf = tf + nam\n",
    "    \n",
    "data = {'TFs': tf,\n",
    "        'targs': targs}\n",
    "  \n",
    "# Create DataFrame\n",
    "daf = pd.DataFrame(data)"
   ]
  },
  {
   "cell_type": "code",
   "execution_count": 52,
   "id": "9e9e73fb",
   "metadata": {},
   "outputs": [
    {
     "data": {
      "text/html": [
       "<div>\n",
       "<style scoped>\n",
       "    .dataframe tbody tr th:only-of-type {\n",
       "        vertical-align: middle;\n",
       "    }\n",
       "\n",
       "    .dataframe tbody tr th {\n",
       "        vertical-align: top;\n",
       "    }\n",
       "\n",
       "    .dataframe thead th {\n",
       "        text-align: right;\n",
       "    }\n",
       "</style>\n",
       "<table border=\"1\" class=\"dataframe\">\n",
       "  <thead>\n",
       "    <tr style=\"text-align: right;\">\n",
       "      <th></th>\n",
       "      <th>TFs</th>\n",
       "      <th>targs</th>\n",
       "    </tr>\n",
       "  </thead>\n",
       "  <tbody>\n",
       "    <tr>\n",
       "      <th>0</th>\n",
       "      <td>ARID3A</td>\n",
       "      <td>SLITRK4</td>\n",
       "    </tr>\n",
       "    <tr>\n",
       "      <th>1</th>\n",
       "      <td>ARID3A</td>\n",
       "      <td>CYP26B1</td>\n",
       "    </tr>\n",
       "    <tr>\n",
       "      <th>2</th>\n",
       "      <td>ARID3A</td>\n",
       "      <td>HES4</td>\n",
       "    </tr>\n",
       "    <tr>\n",
       "      <th>3</th>\n",
       "      <td>ARID3A</td>\n",
       "      <td>PPL</td>\n",
       "    </tr>\n",
       "    <tr>\n",
       "      <th>4</th>\n",
       "      <td>ARID3A</td>\n",
       "      <td>CDH2</td>\n",
       "    </tr>\n",
       "    <tr>\n",
       "      <th>...</th>\n",
       "      <td>...</td>\n",
       "      <td>...</td>\n",
       "    </tr>\n",
       "    <tr>\n",
       "      <th>5758</th>\n",
       "      <td>ZNF91</td>\n",
       "      <td>HSPA4L</td>\n",
       "    </tr>\n",
       "    <tr>\n",
       "      <th>5759</th>\n",
       "      <td>ZNF91</td>\n",
       "      <td>HDAC4</td>\n",
       "    </tr>\n",
       "    <tr>\n",
       "      <th>5760</th>\n",
       "      <td>ZNF91</td>\n",
       "      <td>CLIC4</td>\n",
       "    </tr>\n",
       "    <tr>\n",
       "      <th>5761</th>\n",
       "      <td>ZNF91</td>\n",
       "      <td>PIK3IP1</td>\n",
       "    </tr>\n",
       "    <tr>\n",
       "      <th>5762</th>\n",
       "      <td>ZNF91</td>\n",
       "      <td>NFKB1</td>\n",
       "    </tr>\n",
       "  </tbody>\n",
       "</table>\n",
       "<p>5763 rows × 2 columns</p>\n",
       "</div>"
      ],
      "text/plain": [
       "         TFs    targs\n",
       "0     ARID3A  SLITRK4\n",
       "1     ARID3A  CYP26B1\n",
       "2     ARID3A     HES4\n",
       "3     ARID3A      PPL\n",
       "4     ARID3A     CDH2\n",
       "...      ...      ...\n",
       "5758   ZNF91   HSPA4L\n",
       "5759   ZNF91    HDAC4\n",
       "5760   ZNF91    CLIC4\n",
       "5761   ZNF91  PIK3IP1\n",
       "5762   ZNF91    NFKB1\n",
       "\n",
       "[5763 rows x 2 columns]"
      ]
     },
     "execution_count": 52,
     "metadata": {},
     "output_type": "execute_result"
    }
   ],
   "source": [
    "daf"
   ]
  },
  {
   "cell_type": "code",
   "execution_count": 53,
   "id": "f72414a8",
   "metadata": {},
   "outputs": [],
   "source": [
    "daf.to_csv('connections.csv', index = False,header=False)"
   ]
  },
  {
   "cell_type": "code",
   "execution_count": null,
   "id": "e2fa8dc9",
   "metadata": {},
   "outputs": [],
   "source": []
  }
 ],
 "metadata": {
  "kernelspec": {
   "display_name": "Python 3 (ipykernel)",
   "language": "python",
   "name": "python3"
  },
  "language_info": {
   "codemirror_mode": {
    "name": "ipython",
    "version": 3
   },
   "file_extension": ".py",
   "mimetype": "text/x-python",
   "name": "python",
   "nbconvert_exporter": "python",
   "pygments_lexer": "ipython3",
   "version": "3.10.9"
  }
 },
 "nbformat": 4,
 "nbformat_minor": 5
}
